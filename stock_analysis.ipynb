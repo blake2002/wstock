{
 "cells": [
  {
   "cell_type": "code",
   "execution_count": 46,
   "metadata": {
    "collapsed": true
   },
   "outputs": [
    {
     "data": {
      "text/plain": "91           NaN\n92    2020-09-15\n93    2020-09-17\n94    2020-09-30\n95    2020-10-09\n96    2020-10-12\n97    2020-10-13\nName: DTATE_TIME, dtype: object"
     },
     "execution_count": 46,
     "metadata": {},
     "output_type": "execute_result"
    }
   ],
   "source": [
    "from stock import Stock\n",
    "import pandas as pd\n",
    "s = Stock()\n",
    "s.init_df()\n",
    "\n",
    "maxup_df = s.get_maxup_stock()\n",
    "maxup_df['NUM'] = 1\n",
    "sum_s=maxup_df.groupby(by='WIND_CODE')['NUM'].sum()\n",
    "sum_s= sum_s.loc[sum_s>1]\n",
    "maxup_multi_df = maxup_df.loc[maxup_df['WIND_CODE'].isin(sum_s.index)]\n",
    "maxup_multi_df.index = pd.RangeIndex(0,len(maxup_multi_df))\n",
    "maxup_multi_df.head(100)\n",
    "#first.sort_values(by=['WIND_CODE']).head()\n",
    "dt =pd.to_datetime(maxup_df['DTATE_TIME'])\n",
    "day = pd.Timedelta('1d')\n",
    "c_df = maxup_multi_df.loc[maxup_multi_df['WIND_CODE']=='002076.SZ']['DTATE_TIME']\n",
    "c_df.shift()"
   ]
  },
  {
   "cell_type": "code",
   "execution_count": 47,
   "outputs": [
    {
     "data": {
      "text/plain": "91    2020-09-15\n92    2020-09-17\n93    2020-09-30\n94    2020-10-09\n95    2020-10-12\n96    2020-10-13\n97    2020-10-14\nName: DTATE_TIME, dtype: object"
     },
     "execution_count": 47,
     "metadata": {},
     "output_type": "execute_result"
    }
   ],
   "source": [
    "c_df"
   ],
   "metadata": {
    "collapsed": false,
    "pycharm": {
     "name": "#%%\n"
    }
   }
  }
 ],
 "metadata": {
  "kernelspec": {
   "name": "pycharm-b060f480",
   "language": "python",
   "display_name": "PyCharm (stock_analyz)"
  },
  "language_info": {
   "codemirror_mode": {
    "name": "ipython",
    "version": 2
   },
   "file_extension": ".py",
   "mimetype": "text/x-python",
   "name": "python",
   "nbconvert_exporter": "python",
   "pygments_lexer": "ipython2",
   "version": "2.7.6"
  }
 },
 "nbformat": 4,
 "nbformat_minor": 0
}