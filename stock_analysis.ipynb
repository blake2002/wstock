{
 "cells": [
  {
   "cell_type": "code",
   "execution_count": 2,
   "metadata": {},
   "outputs": [
    {
     "name": "stderr",
     "output_type": "stream",
     "text": [
      "D:\\ProgramData\\Anaconda3\\lib\\site-packages\\ipykernel_launcher.py:12: SettingWithCopyWarning: \n",
      "A value is trying to be set on a copy of a slice from a DataFrame.\n",
      "Try using .loc[row_indexer,col_indexer] = value instead\n",
      "\n",
      "See the caveats in the documentation: https://pandas.pydata.org/pandas-docs/stable/user_guide/indexing.html#returning-a-view-versus-a-copy\n",
      "  if sys.path[0] == '':\n"
     ]
    },
    {
     "data": {
      "text/plain": "002076.SZ|2020-09-15   2020-09-15\n002076.SZ|2020-09-17   2020-09-17\n002076.SZ|2020-09-30   2020-09-30\n002076.SZ|2020-10-09   2020-10-09\n002076.SZ|2020-10-12   2020-10-12\n002076.SZ|2020-10-13   2020-10-13\n002076.SZ|2020-10-14   2020-10-14\nName: DTATE_TIME, dtype: datetime64[ns]"
     },
     "execution_count": 2,
     "metadata": {},
     "output_type": "execute_result"
    }
   ],
   "source": [
    "from stock import Stock\n",
    "import pandas as pd\n",
    "s = Stock()\n",
    "s.init_df()\n",
    "\n",
    "maxup_df = s.get_maxup_stock()\n",
    "maxup_df['NUM'] = 1\n",
    "sum_s=maxup_df.groupby(by='WIND_CODE')['NUM'].sum()\n",
    "sum_s= sum_s.loc[sum_s>1]\n",
    "maxup_multi_df = maxup_df.loc[maxup_df['WIND_CODE'].isin(sum_s.index)]\n",
    "maxup_multi_df.index = maxup_multi_df['WIND_CODE']+'|'+maxup_multi_df['DTATE_TIME']\n",
    "maxup_multi_df['DTATE_TIME']=pd.to_datetime(maxup_multi_df['DTATE_TIME'])\n",
    "#first.sort_values(by=['WIND_CODE']).head()\n",
    "dt =pd.to_datetime(maxup_df['DTATE_TIME'])\n",
    "day = pd.Timedelta('1d')\n",
    "c_df = maxup_multi_df.loc[maxup_multi_df['WIND_CODE']=='002076.SZ']['DTATE_TIME']\n",
    "c_df\n"
   ]
  },
  {
   "cell_type": "code",
   "execution_count": 6,
   "metadata": {
    "pycharm": {
     "name": "#%%\n"
    }
   },
   "outputs": [
    {
     "data": {
      "text/plain": "      DTATE_TIME          AMT   CHG  HIGH3   LOW3  CLOSE3 TRADE_STATUS  MAXUP  \\\n2655  2020-09-17  122043169.0  2.25  24.74  22.36   24.74           交易  24.74   \n3987  2020-09-18  418036243.0  0.59   6.47   5.86    6.47           交易   6.47   \n3989  2020-09-18  448698469.0  1.70  18.67  16.84   18.67           交易  18.67   \n414   2020-10-09  182871069.0  0.56   6.18   6.18    6.18           交易   6.18   \n3990  2020-09-18   82032295.0  1.02  11.20  10.13   11.20           交易  11.20   \n\n      MAXUPORDOWN  WIND_CODE wind_type1   windcode  name  NUM  \n2655          1.0  000004.SZ   Wind医疗保健  000004.SZ  国农科技    1  \n3987          1.0  000006.SZ    Wind房地产  000006.SZ  深振业A    1  \n3989          1.0  000011.SZ    Wind房地产  000011.SZ  深物业A    1  \n414           1.0  000012.SZ     Wind材料  000012.SZ   南玻A    1  \n3990          1.0  000014.SZ    Wind房地产  000014.SZ  沙河股份    1  ",
      "text/html": "<div>\n<style scoped>\n    .dataframe tbody tr th:only-of-type {\n        vertical-align: middle;\n    }\n\n    .dataframe tbody tr th {\n        vertical-align: top;\n    }\n\n    .dataframe thead th {\n        text-align: right;\n    }\n</style>\n<table border=\"1\" class=\"dataframe\">\n  <thead>\n    <tr style=\"text-align: right;\">\n      <th></th>\n      <th>DTATE_TIME</th>\n      <th>AMT</th>\n      <th>CHG</th>\n      <th>HIGH3</th>\n      <th>LOW3</th>\n      <th>CLOSE3</th>\n      <th>TRADE_STATUS</th>\n      <th>MAXUP</th>\n      <th>MAXUPORDOWN</th>\n      <th>WIND_CODE</th>\n      <th>wind_type1</th>\n      <th>windcode</th>\n      <th>name</th>\n      <th>NUM</th>\n    </tr>\n  </thead>\n  <tbody>\n    <tr>\n      <th>2655</th>\n      <td>2020-09-17</td>\n      <td>122043169.0</td>\n      <td>2.25</td>\n      <td>24.74</td>\n      <td>22.36</td>\n      <td>24.74</td>\n      <td>交易</td>\n      <td>24.74</td>\n      <td>1.0</td>\n      <td>000004.SZ</td>\n      <td>Wind医疗保健</td>\n      <td>000004.SZ</td>\n      <td>国农科技</td>\n      <td>1</td>\n    </tr>\n    <tr>\n      <th>3987</th>\n      <td>2020-09-18</td>\n      <td>418036243.0</td>\n      <td>0.59</td>\n      <td>6.47</td>\n      <td>5.86</td>\n      <td>6.47</td>\n      <td>交易</td>\n      <td>6.47</td>\n      <td>1.0</td>\n      <td>000006.SZ</td>\n      <td>Wind房地产</td>\n      <td>000006.SZ</td>\n      <td>深振业A</td>\n      <td>1</td>\n    </tr>\n    <tr>\n      <th>3989</th>\n      <td>2020-09-18</td>\n      <td>448698469.0</td>\n      <td>1.70</td>\n      <td>18.67</td>\n      <td>16.84</td>\n      <td>18.67</td>\n      <td>交易</td>\n      <td>18.67</td>\n      <td>1.0</td>\n      <td>000011.SZ</td>\n      <td>Wind房地产</td>\n      <td>000011.SZ</td>\n      <td>深物业A</td>\n      <td>1</td>\n    </tr>\n    <tr>\n      <th>414</th>\n      <td>2020-10-09</td>\n      <td>182871069.0</td>\n      <td>0.56</td>\n      <td>6.18</td>\n      <td>6.18</td>\n      <td>6.18</td>\n      <td>交易</td>\n      <td>6.18</td>\n      <td>1.0</td>\n      <td>000012.SZ</td>\n      <td>Wind材料</td>\n      <td>000012.SZ</td>\n      <td>南玻A</td>\n      <td>1</td>\n    </tr>\n    <tr>\n      <th>3990</th>\n      <td>2020-09-18</td>\n      <td>82032295.0</td>\n      <td>1.02</td>\n      <td>11.20</td>\n      <td>10.13</td>\n      <td>11.20</td>\n      <td>交易</td>\n      <td>11.20</td>\n      <td>1.0</td>\n      <td>000014.SZ</td>\n      <td>Wind房地产</td>\n      <td>000014.SZ</td>\n      <td>沙河股份</td>\n      <td>1</td>\n    </tr>\n  </tbody>\n</table>\n</div>"
     },
     "execution_count": 6,
     "metadata": {},
     "output_type": "execute_result"
    }
   ],
   "source": [
    "# 所有股票 涨跌平\n",
    "# df_1 = s.get_chg_amt_count_frm_df()\n",
    "# df_1.to_csv('D:\\\\demo\\\\stock_analyz\\\\result_data\\\\所有股票涨跌平成交额.csv')\n",
    "#\n",
    "#大盘涨地坪\n",
    "# df_2 = s.get_dapan_chg_amt_count()\n",
    "# df_2.to_csv('D:\\\\demo\\\\stock_analyz\\\\result_data\\\\大盘涨跌平成交额.csv')\n",
    "# df_2.head()\n",
    "\n",
    "# 各个板块\n",
    "# df_3 = s.get_windtype_chg_amt_count()\n",
    "# df_3.to_csv('D:\\\\demo\\\\stock_analyz\\\\result_data\\\\各板块涨跌平成交额.csv')\n",
    "\n",
    "# 各涨停股\n",
    "# df_4 = s.get_maxup_stock()\n",
    "# df_4.to_csv('D:\\\\demo\\\\stock_analyz\\\\result_data\\\\各板块涨涨停股.csv')\n",
    "# df_4.head()\n",
    "\n",
    "# 首板\n",
    "df_5 = s.get_first_maxup_stock()\n",
    "df_5.to_csv('D:\\\\demo\\\\stock_analyz\\\\result_data\\\\各板块首次涨停股.csv')\n",
    "df_5.head()"
   ]
  },
  {
   "source": [
    "from pyecharts.charts import Bar\n",
    "from pyecharts import options as opts\n",
    "from pyecharts.globals import ThemeType\n",
    "\n",
    "bar=(\n",
    "    Bar(init_opts=opts.InitOpts(theme=ThemeType.WESTEROS))\n",
    "    .add_xaxis(['衬衫','羊毛衫'])\n",
    "    .add_yaxis('商家A',[5,20])\n",
    "    .set_global_opts(title_opts=opts.TitleOpts(title='主标题',subtitle='副标题'))\n",
    ")\n",
    "\n",
    "bar.render_notebook()\n"
   ],
   "cell_type": "code",
   "metadata": {
    "collapsed": false,
    "pycharm": {
     "name": "#%%\n"
    }
   },
   "execution_count": 1,
   "outputs": [
    {
     "output_type": "execute_result",
     "data": {
      "text/plain": [
       "<pyecharts.render.display.HTML at 0x5d60908>"
      ],
      "text/html": "\n<script>\n    require.config({\n        paths: {\n            'echarts':'https://assets.pyecharts.org/assets/echarts.min', 'westeros':'https://assets.pyecharts.org/assets/themes/westeros'\n        }\n    });\n</script>\n\n        <div id=\"ad7031a027814a799d0ec15c8a7843ce\" style=\"width:900px; height:500px;\"></div>\n\n<script>\n        require(['echarts', 'westeros'], function(echarts) {\n                var chart_ad7031a027814a799d0ec15c8a7843ce = echarts.init(\n                    document.getElementById('ad7031a027814a799d0ec15c8a7843ce'), 'westeros', {renderer: 'canvas'});\n                var option_ad7031a027814a799d0ec15c8a7843ce = {\n    \"animation\": true,\n    \"animationThreshold\": 2000,\n    \"animationDuration\": 1000,\n    \"animationEasing\": \"cubicOut\",\n    \"animationDelay\": 0,\n    \"animationDurationUpdate\": 300,\n    \"animationEasingUpdate\": \"cubicOut\",\n    \"animationDelayUpdate\": 0,\n    \"series\": [\n        {\n            \"type\": \"bar\",\n            \"name\": \"\\u5546\\u5bb6A\",\n            \"legendHoverLink\": true,\n            \"data\": [\n                5,\n                20\n            ],\n            \"showBackground\": false,\n            \"barMinHeight\": 0,\n            \"barCategoryGap\": \"20%\",\n            \"barGap\": \"30%\",\n            \"large\": false,\n            \"largeThreshold\": 400,\n            \"seriesLayoutBy\": \"column\",\n            \"datasetIndex\": 0,\n            \"clip\": true,\n            \"zlevel\": 0,\n            \"z\": 2,\n            \"label\": {\n                \"show\": true,\n                \"position\": \"top\",\n                \"margin\": 8\n            }\n        }\n    ],\n    \"legend\": [\n        {\n            \"data\": [\n                \"\\u5546\\u5bb6A\"\n            ],\n            \"selected\": {\n                \"\\u5546\\u5bb6A\": true\n            },\n            \"show\": true,\n            \"padding\": 5,\n            \"itemGap\": 10,\n            \"itemWidth\": 25,\n            \"itemHeight\": 14\n        }\n    ],\n    \"tooltip\": {\n        \"show\": true,\n        \"trigger\": \"item\",\n        \"triggerOn\": \"mousemove|click\",\n        \"axisPointer\": {\n            \"type\": \"line\"\n        },\n        \"showContent\": true,\n        \"alwaysShowContent\": false,\n        \"showDelay\": 0,\n        \"hideDelay\": 100,\n        \"textStyle\": {\n            \"fontSize\": 14\n        },\n        \"borderWidth\": 0,\n        \"padding\": 5\n    },\n    \"xAxis\": [\n        {\n            \"show\": true,\n            \"scale\": false,\n            \"nameLocation\": \"end\",\n            \"nameGap\": 15,\n            \"gridIndex\": 0,\n            \"inverse\": false,\n            \"offset\": 0,\n            \"splitNumber\": 5,\n            \"minInterval\": 0,\n            \"splitLine\": {\n                \"show\": false,\n                \"lineStyle\": {\n                    \"show\": true,\n                    \"width\": 1,\n                    \"opacity\": 1,\n                    \"curveness\": 0,\n                    \"type\": \"solid\"\n                }\n            },\n            \"data\": [\n                \"\\u886c\\u886b\",\n                \"\\u7f8a\\u6bdb\\u886b\"\n            ]\n        }\n    ],\n    \"yAxis\": [\n        {\n            \"show\": true,\n            \"scale\": false,\n            \"nameLocation\": \"end\",\n            \"nameGap\": 15,\n            \"gridIndex\": 0,\n            \"inverse\": false,\n            \"offset\": 0,\n            \"splitNumber\": 5,\n            \"minInterval\": 0,\n            \"splitLine\": {\n                \"show\": false,\n                \"lineStyle\": {\n                    \"show\": true,\n                    \"width\": 1,\n                    \"opacity\": 1,\n                    \"curveness\": 0,\n                    \"type\": \"solid\"\n                }\n            }\n        }\n    ],\n    \"title\": [\n        {\n            \"text\": \"\\u4e3b\\u6807\\u9898\",\n            \"subtext\": \"\\u526f\\u6807\\u9898\",\n            \"padding\": 5,\n            \"itemGap\": 10\n        }\n    ]\n};\n                chart_ad7031a027814a799d0ec15c8a7843ce.setOption(option_ad7031a027814a799d0ec15c8a7843ce);\n        });\n    </script>\n"
     },
     "metadata": {},
     "execution_count": 1
    }
   ]
  },
  {
   "cell_type": "code",
   "execution_count": null,
   "metadata": {},
   "outputs": [],
   "source": []
  }
 ],
 "metadata": {
  "kernelspec": {
   "display_name": "PyCharm (stock_analyz)",
   "language": "python",
   "name": "pycharm-b060f480"
  },
  "language_info": {
   "codemirror_mode": {
    "name": "ipython",
    "version": 3
   },
   "file_extension": ".py",
   "mimetype": "text/x-python",
   "name": "python",
   "nbconvert_exporter": "python",
   "pygments_lexer": "ipython3",
   "version": "3.7.4-final"
  },
  "toc": {
   "base_numbering": 1,
   "nav_menu": {},
   "number_sections": true,
   "sideBar": true,
   "skip_h1_title": false,
   "title_cell": "Table of Contents",
   "title_sidebar": "Contents",
   "toc_cell": false,
   "toc_position": {},
   "toc_section_display": true,
   "toc_window_display": true
  },
  "varInspector": {
   "cols": {
    "lenName": 16,
    "lenType": 16,
    "lenVar": 40
   },
   "kernels_config": {
    "python": {
     "delete_cmd_postfix": "",
     "delete_cmd_prefix": "del ",
     "library": "var_list.py",
     "varRefreshCmd": "print(var_dic_list())"
    },
    "r": {
     "delete_cmd_postfix": ") ",
     "delete_cmd_prefix": "rm(",
     "library": "var_list.r",
     "varRefreshCmd": "cat(var_dic_list()) "
    }
   },
   "position": {
    "height": "373.667px",
    "left": "1366.33px",
    "right": "20px",
    "top": "120px",
    "width": "321px"
   },
   "types_to_exclude": [
    "module",
    "function",
    "builtin_function_or_method",
    "instance",
    "_Feature"
   ],
   "window_display": false
  }
 },
 "nbformat": 4,
 "nbformat_minor": 1
}