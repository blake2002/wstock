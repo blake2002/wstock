{
 "cells": [
  {
   "cell_type": "code",
   "execution_count": 10,
   "metadata": {},
   "outputs": [
    {
     "data": {
      "text/plain": ".ErrorCode=0\n.Data=[Already conntected!]"
     },
     "execution_count": 10,
     "metadata": {},
     "output_type": "execute_result"
    }
   ],
   "source": [
    "from stock import Stock\n",
    "import pandas as pd\n",
    "from WindPy import w\n",
    "w.start()"
   ]
  },
  {
   "cell_type": "code",
   "execution_count": 13,
   "metadata": {
    "pycharm": {
     "name": "#%%\n"
    }
   },
   "outputs": [
    {
     "data": {
      "text/plain": "                     OUTMESSAGE\n0  CWSDService: quota exceeded.",
      "text/html": "<div>\n<style scoped>\n    .dataframe tbody tr th:only-of-type {\n        vertical-align: middle;\n    }\n\n    .dataframe tbody tr th {\n        vertical-align: top;\n    }\n\n    .dataframe thead th {\n        text-align: right;\n    }\n</style>\n<table border=\"1\" class=\"dataframe\">\n  <thead>\n    <tr style=\"text-align: right;\">\n      <th></th>\n      <th>OUTMESSAGE</th>\n    </tr>\n  </thead>\n  <tbody>\n    <tr>\n      <th>0</th>\n      <td>CWSDService: quota exceeded.</td>\n    </tr>\n  </tbody>\n</table>\n</div>"
     },
     "execution_count": 13,
     "metadata": {},
     "output_type": "execute_result"
    }
   ],
   "source": [
    "# 所有股票 涨跌平\n",
    "# df_1 = s.get_chg_amt_count_frm_df()\n",
    "# df_1.to_csv('D:\\\\demo\\\\stock_analyz\\\\result_data\\\\所有股票涨跌平成交额.csv')\n",
    "#\n",
    "#大盘涨地坪\n",
    "# df_2 = s.get_dapan_chg_amt_count()\n",
    "# df_2.to_csv('D:\\\\demo\\\\stock_analyz\\\\result_data\\\\大盘涨跌平成交额.csv')\n",
    "# df_2.head()\n",
    "\n",
    "# 各个板块\n",
    "# df_3 = s.get_windtype_chg_amt_count()\n",
    "# df_3.to_csv('D:\\\\demo\\\\stock_analyz\\\\result_data\\\\各板块涨跌平成交额.csv')\n",
    "\n",
    "# 各涨停股\n",
    "# df_4 = s.get_maxup_stock()\n",
    "# df_4.to_csv('D:\\\\demo\\\\stock_analyz\\\\result_data\\\\各板块涨涨停股.csv')\n",
    "# df_4.head()\n",
    "\n",
    "# 首板\n",
    "# df_5 = s.get_first_maxup_stock()\n",
    "# df_5.to_csv('D:\\\\demo\\\\stock_analyz\\\\result_data\\\\各板块首次涨停股.csv')\n",
    "# df_5.head()\n",
    "\n",
    "df=w.wsd('600600.SH', \"amt,chg,high3,low3,close3,trade_status,maxup,maxupordown\", '20201113', '20201113', \"\", usedf=True)\n",
    "df[1].head()"
   ]
  },
  {
   "cell_type": "code",
   "execution_count": 14,
   "metadata": {
    "ExecuteTime": {
     "end_time": "2020-11-08T04:18:54.581699Z",
     "start_time": "2020-11-08T04:18:54.563698Z"
    },
    "pycharm": {
     "name": "#%%\n"
    }
   },
   "outputs": [
    {
     "data": {
      "text/plain": "<pyecharts.render.display.HTML at 0x167ee948>",
      "text/html": "\n<script>\n    require.config({\n        paths: {\n            'echarts':'https://assets.pyecharts.org/assets/echarts.min'\n        }\n    });\n</script>\n\n        <div id=\"555338cf94ab4c61824e652ed4662884\" style=\"width:900px; height:500px;\"></div>\n\n<script>\n        require(['echarts'], function(echarts) {\n                var chart_555338cf94ab4c61824e652ed4662884 = echarts.init(\n                    document.getElementById('555338cf94ab4c61824e652ed4662884'), 'light', {renderer: 'canvas'});\n                var option_555338cf94ab4c61824e652ed4662884 = {\n    \"animation\": true,\n    \"animationThreshold\": 2000,\n    \"animationDuration\": 1000,\n    \"animationEasing\": \"cubicOut\",\n    \"animationDelay\": 0,\n    \"animationDurationUpdate\": 300,\n    \"animationEasingUpdate\": \"cubicOut\",\n    \"animationDelayUpdate\": 0,\n    \"series\": [\n        {\n            \"type\": \"bar\",\n            \"name\": \"\\u5546\\u5bb6A\",\n            \"legendHoverLink\": true,\n            \"data\": [\n                10,\n                20\n            ],\n            \"showBackground\": false,\n            \"barMinHeight\": 0,\n            \"barCategoryGap\": \"20%\",\n            \"barGap\": \"30%\",\n            \"large\": false,\n            \"largeThreshold\": 400,\n            \"seriesLayoutBy\": \"column\",\n            \"datasetIndex\": 0,\n            \"clip\": true,\n            \"zlevel\": 0,\n            \"z\": 2,\n            \"label\": {\n                \"show\": true,\n                \"position\": \"top\",\n                \"margin\": 8\n            }\n        },\n        {\n            \"type\": \"bar\",\n            \"name\": \"\\u5546\\u5bb6B\",\n            \"legendHoverLink\": true,\n            \"data\": [\n                40,\n                30\n            ],\n            \"showBackground\": false,\n            \"barMinHeight\": 0,\n            \"barCategoryGap\": \"20%\",\n            \"barGap\": \"30%\",\n            \"large\": false,\n            \"largeThreshold\": 400,\n            \"seriesLayoutBy\": \"column\",\n            \"datasetIndex\": 0,\n            \"clip\": true,\n            \"zlevel\": 0,\n            \"z\": 2,\n            \"label\": {\n                \"show\": true,\n                \"position\": \"top\",\n                \"margin\": 8\n            }\n        },\n        {\n            \"type\": \"bar\",\n            \"name\": \"\\u5546\\u5bb6C\",\n            \"legendHoverLink\": true,\n            \"data\": [\n                20,\n                40\n            ],\n            \"showBackground\": false,\n            \"barMinHeight\": 0,\n            \"barCategoryGap\": \"20%\",\n            \"barGap\": \"30%\",\n            \"large\": false,\n            \"largeThreshold\": 400,\n            \"seriesLayoutBy\": \"column\",\n            \"datasetIndex\": 0,\n            \"clip\": true,\n            \"zlevel\": 0,\n            \"z\": 2,\n            \"label\": {\n                \"show\": true,\n                \"position\": \"top\",\n                \"margin\": 8\n            }\n        },\n        {\n            \"type\": \"bar\",\n            \"name\": \"\\u5546\\u5bb6D\",\n            \"legendHoverLink\": true,\n            \"data\": [\n                10,\n                30\n            ],\n            \"showBackground\": false,\n            \"barMinHeight\": 0,\n            \"barCategoryGap\": \"20%\",\n            \"barGap\": \"30%\",\n            \"large\": false,\n            \"largeThreshold\": 400,\n            \"seriesLayoutBy\": \"column\",\n            \"datasetIndex\": 0,\n            \"clip\": true,\n            \"zlevel\": 0,\n            \"z\": 2,\n            \"label\": {\n                \"show\": true,\n                \"position\": \"top\",\n                \"margin\": 8\n            }\n        }\n    ],\n    \"legend\": [\n        {\n            \"data\": [\n                \"\\u5546\\u5bb6A\",\n                \"\\u5546\\u5bb6B\",\n                \"\\u5546\\u5bb6C\",\n                \"\\u5546\\u5bb6D\"\n            ],\n            \"selected\": {\n                \"\\u5546\\u5bb6A\": true,\n                \"\\u5546\\u5bb6B\": true,\n                \"\\u5546\\u5bb6C\": true,\n                \"\\u5546\\u5bb6D\": true\n            },\n            \"show\": true,\n            \"padding\": 5,\n            \"itemGap\": 10,\n            \"itemWidth\": 25,\n            \"itemHeight\": 14\n        }\n    ],\n    \"tooltip\": {\n        \"show\": true,\n        \"trigger\": \"item\",\n        \"triggerOn\": \"mousemove|click\",\n        \"axisPointer\": {\n            \"type\": \"line\"\n        },\n        \"showContent\": true,\n        \"alwaysShowContent\": false,\n        \"showDelay\": 0,\n        \"hideDelay\": 100,\n        \"textStyle\": {\n            \"fontSize\": 14\n        },\n        \"borderWidth\": 0,\n        \"padding\": 5\n    },\n    \"xAxis\": [\n        {\n            \"show\": true,\n            \"scale\": false,\n            \"nameLocation\": \"end\",\n            \"nameGap\": 15,\n            \"gridIndex\": 0,\n            \"inverse\": false,\n            \"offset\": 0,\n            \"splitNumber\": 5,\n            \"minInterval\": 0,\n            \"splitLine\": {\n                \"show\": false,\n                \"lineStyle\": {\n                    \"show\": true,\n                    \"width\": 1,\n                    \"opacity\": 1,\n                    \"curveness\": 0,\n                    \"type\": \"solid\"\n                }\n            },\n            \"data\": [\n                \"\\u76ae\\u6602\",\n                \"ss\"\n            ]\n        }\n    ],\n    \"yAxis\": [\n        {\n            \"show\": true,\n            \"scale\": false,\n            \"nameLocation\": \"end\",\n            \"nameGap\": 15,\n            \"gridIndex\": 0,\n            \"inverse\": false,\n            \"offset\": 0,\n            \"splitNumber\": 5,\n            \"minInterval\": 0,\n            \"splitLine\": {\n                \"show\": false,\n                \"lineStyle\": {\n                    \"show\": true,\n                    \"width\": 1,\n                    \"opacity\": 1,\n                    \"curveness\": 0,\n                    \"type\": \"solid\"\n                }\n            }\n        }\n    ],\n    \"title\": [\n        {\n            \"text\": \"Theme-default\",\n            \"padding\": 5,\n            \"itemGap\": 10\n        }\n    ]\n};\n                chart_555338cf94ab4c61824e652ed4662884.setOption(option_555338cf94ab4c61824e652ed4662884);\n        });\n    </script>\n"
     },
     "execution_count": 14,
     "metadata": {},
     "output_type": "execute_result"
    }
   ],
   "source": [
    "from pyecharts.charts import Bar\n",
    "from pyecharts import options as opts\n",
    "from pyecharts.globals import ThemeType\n",
    "\n",
    "c = (\n",
    "        Bar(init_opts=opts.InitOpts(theme=ThemeType.LIGHT))\n",
    "        .add_xaxis(['皮昂','ss'])\n",
    "        .add_yaxis(\"商家A\", [10,20])\n",
    "        .add_yaxis(\"商家B\", [40,30])\n",
    "        .add_yaxis(\"商家C\", [20,40])\n",
    "        .add_yaxis(\"商家D\", [10,30])\n",
    "        .set_global_opts(title_opts=opts.TitleOpts(\"Theme-default\"))\n",
    "    )\n",
    "\n",
    "c.render_notebook()"
   ]
  },
  {
   "cell_type": "code",
   "execution_count": 2,
   "outputs": [
    {
     "data": {
      "text/plain": "        date  wind_code sec_name wind_type1\n1 2020-11-08  000059.SZ     华锦股份     Wind能源\n2 2020-11-08  000096.SZ     广聚能源     Wind能源\n3 2020-11-08  000159.SZ     国际实业     Wind能源\n4 2020-11-08  000552.SZ     靖远煤电     Wind能源\n5 2020-11-08  000554.SZ     泰山石油     Wind能源",
      "text/html": "<div>\n<style scoped>\n    .dataframe tbody tr th:only-of-type {\n        vertical-align: middle;\n    }\n\n    .dataframe tbody tr th {\n        vertical-align: top;\n    }\n\n    .dataframe thead th {\n        text-align: right;\n    }\n</style>\n<table border=\"1\" class=\"dataframe\">\n  <thead>\n    <tr style=\"text-align: right;\">\n      <th></th>\n      <th>date</th>\n      <th>wind_code</th>\n      <th>sec_name</th>\n      <th>wind_type1</th>\n    </tr>\n  </thead>\n  <tbody>\n    <tr>\n      <th>1</th>\n      <td>2020-11-08</td>\n      <td>000059.SZ</td>\n      <td>华锦股份</td>\n      <td>Wind能源</td>\n    </tr>\n    <tr>\n      <th>2</th>\n      <td>2020-11-08</td>\n      <td>000096.SZ</td>\n      <td>广聚能源</td>\n      <td>Wind能源</td>\n    </tr>\n    <tr>\n      <th>3</th>\n      <td>2020-11-08</td>\n      <td>000159.SZ</td>\n      <td>国际实业</td>\n      <td>Wind能源</td>\n    </tr>\n    <tr>\n      <th>4</th>\n      <td>2020-11-08</td>\n      <td>000552.SZ</td>\n      <td>靖远煤电</td>\n      <td>Wind能源</td>\n    </tr>\n    <tr>\n      <th>5</th>\n      <td>2020-11-08</td>\n      <td>000554.SZ</td>\n      <td>泰山石油</td>\n      <td>Wind能源</td>\n    </tr>\n  </tbody>\n</table>\n</div>"
     },
     "execution_count": 2,
     "metadata": {},
     "output_type": "execute_result"
    }
   ],
   "source": [
    "s = Stock()\n",
    "# df = s.get_a_chuang_windcodes()\n",
    "# df = s.get_dapan_windcodes()\n",
    "df = s.get_windtype_windcodes()\n",
    "df.head()"
   ],
   "metadata": {
    "collapsed": false,
    "pycharm": {
     "name": "#%%\n"
    }
   }
  },
  {
   "cell_type": "code",
   "execution_count": 30,
   "outputs": [
    {
     "name": "stdout",
     "output_type": "stream",
     "text": [
      "['000001.SZ', '20201101', '20201115']\n",
      "000001.SZ\n",
      "['000001.SZ', '20201101', '20201115']\n",
      "['000002.SZ', '20201101', '20201115']\n",
      "000002.SZ\n",
      "['000002.SZ', '20201101', '20201115']\n"
     ]
    },
    {
     "data": {
      "text/plain": "'20201115'"
     },
     "execution_count": 30,
     "metadata": {},
     "output_type": "execute_result"
    }
   ],
   "source": [
    "import pandas as pd\n",
    "from datetime import datetime,timedelta\n",
    "import pathlib\n",
    "import  os\n",
    "import glob\n",
    "from collections import  defaultdict\n",
    "# df = pd.read_csv('./data/wind_stock.csv')\n",
    "# df.head()\n",
    "# df.loc[(df['DATE_TIME']>'2020-10-09') & (df['DATE_TIME']<'2020-10-13')]\n",
    "# today = datetime.now().strftime('%Y-%m-%d')\n",
    "# end  = (datetime.strptime(today,'%Y-%m-%d') - timedelta(30)).strftime('%Y-%m-%d')\n",
    "# today, end\n",
    "pathlib.os.chdir('.')\n",
    "paths  = glob.glob('./data/*.csv')\n",
    "windcode_dates = defaultdict(set)\n",
    "s1=set()\n",
    "def record_windcode_start_end_date(wcode_dict,code_dates):\n",
    "    print(code_dates)\n",
    "    print(code_dates[0])\n",
    "    windcode = code_dates[0]\n",
    "    wcode_dict[windcode].add(code_dates[1])\n",
    "    wcode_dict[windcode].add(code_dates[2])\n",
    "    return code_dates\n",
    "\n",
    "filenames =map(lambda ss: record_windcode_start_end_date(windcode_dates,ss.split('_')),['000001.SZ_20201101_20201115','000002.SZ_20201101_20201115'])\n",
    "\n",
    "for f in filenames:\n",
    "    print(f)\n",
    "windcode_dates\n",
    "\n",
    "max(windcode_dates['000001.SZ'])"
   ],
   "metadata": {
    "collapsed": false,
    "pycharm": {
     "name": "#%%\n"
    }
   }
  }
 ],
 "metadata": {
  "kernelspec": {
   "display_name": "PyCharm (stock_analyz)",
   "language": "python",
   "name": "pycharm-b060f480"
  },
  "language_info": {
   "codemirror_mode": {
    "name": "ipython",
    "version": 3
   },
   "file_extension": ".py",
   "mimetype": "text/x-python",
   "name": "python",
   "nbconvert_exporter": "python",
   "pygments_lexer": "ipython3",
   "version": "3.7.4-final"
  },
  "toc": {
   "base_numbering": 1,
   "nav_menu": {},
   "number_sections": true,
   "sideBar": true,
   "skip_h1_title": false,
   "title_cell": "Table of Contents",
   "title_sidebar": "Contents",
   "toc_cell": false,
   "toc_position": {
    "height": "calc(100% - 180px)",
    "left": "10px",
    "top": "150px",
    "width": "210.792px"
   },
   "toc_section_display": true,
   "toc_window_display": true
  },
  "varInspector": {
   "cols": {
    "lenName": 16,
    "lenType": 16,
    "lenVar": 40
   },
   "kernels_config": {
    "python": {
     "delete_cmd_postfix": "",
     "delete_cmd_prefix": "del ",
     "library": "var_list.py",
     "varRefreshCmd": "print(var_dic_list())"
    },
    "r": {
     "delete_cmd_postfix": ") ",
     "delete_cmd_prefix": "rm(",
     "library": "var_list.r",
     "varRefreshCmd": "cat(var_dic_list()) "
    }
   },
   "position": {
    "height": "373.667px",
    "left": "1366.33px",
    "right": "20px",
    "top": "120px",
    "width": "321px"
   },
   "types_to_exclude": [
    "module",
    "function",
    "builtin_function_or_method",
    "instance",
    "_Feature"
   ],
   "window_display": false
  }
 },
 "nbformat": 4,
 "nbformat_minor": 1
}