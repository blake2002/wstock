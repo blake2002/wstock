{
 "cells": [
  {
   "cell_type": "code",
   "execution_count": 1,
   "metadata": {},
   "outputs": [],
   "source": [
    "from stock import Stock\n",
    "import pandas as pd\n",
    "from WindPy import w\n",
    "#w.start()"
   ]
  },
  {
   "cell_type": "code",
   "execution_count": 2,
   "metadata": {
    "pycharm": {
     "name": "#%%\n"
    }
   },
   "outputs": [
    {
     "data": {
      "text/plain": "     DTATE_TIME   AMT   CHG  HIGH3   LOW3  CLOSE3 TRADE_STATUS  MAXUP  \\\n713  2020-10-09  0.82  0.39   4.30   3.88    4.30           交易   4.30   \n713  2020-10-12  0.20  0.43   4.73   4.73    4.73           交易   4.73   \n2684 2020-09-24  4.49  1.77  19.47  17.14   19.47           交易  19.47   \n2684 2020-09-25  9.45  1.95  21.42  20.11   21.42           交易  21.42   \n742  2020-09-21  1.11  0.43   4.68   4.30    4.68           交易   4.68   \n\n      MAXUPORDOWN  WIND_CODE  CONTINOUS_FLAG  Unnamed: 0        date  \\\n713           1.0  000010.SZ             232           4  2020-11-15   \n713           1.0  000010.SZ             233           4  2020-11-15   \n2684          1.0  000411.SZ            2063           7  2020-11-15   \n2684          1.0  000411.SZ            2064           7  2020-11-15   \n742           1.0  000548.SZ            3464          33  2020-11-15   \n\n      wind_code sec_name wind_type1  C_INDEX  IS_CONTINUOUS_FLAG  \n713   000010.SZ     美丽生态     Wind工业        1                 231  \n713   000010.SZ     美丽生态     Wind工业        2                 231  \n2684  000411.SZ     英特集团   Wind医疗保健        1                2062  \n2684  000411.SZ     英特集团   Wind医疗保健        2                2062  \n742   000548.SZ     湖南投资     Wind工业        1                3463  ",
      "text/html": "<div>\n<style scoped>\n    .dataframe tbody tr th:only-of-type {\n        vertical-align: middle;\n    }\n\n    .dataframe tbody tr th {\n        vertical-align: top;\n    }\n\n    .dataframe thead th {\n        text-align: right;\n    }\n</style>\n<table border=\"1\" class=\"dataframe\">\n  <thead>\n    <tr style=\"text-align: right;\">\n      <th></th>\n      <th>DTATE_TIME</th>\n      <th>AMT</th>\n      <th>CHG</th>\n      <th>HIGH3</th>\n      <th>LOW3</th>\n      <th>CLOSE3</th>\n      <th>TRADE_STATUS</th>\n      <th>MAXUP</th>\n      <th>MAXUPORDOWN</th>\n      <th>WIND_CODE</th>\n      <th>CONTINOUS_FLAG</th>\n      <th>Unnamed: 0</th>\n      <th>date</th>\n      <th>wind_code</th>\n      <th>sec_name</th>\n      <th>wind_type1</th>\n      <th>C_INDEX</th>\n      <th>IS_CONTINUOUS_FLAG</th>\n    </tr>\n  </thead>\n  <tbody>\n    <tr>\n      <th>713</th>\n      <td>2020-10-09</td>\n      <td>0.82</td>\n      <td>0.39</td>\n      <td>4.30</td>\n      <td>3.88</td>\n      <td>4.30</td>\n      <td>交易</td>\n      <td>4.30</td>\n      <td>1.0</td>\n      <td>000010.SZ</td>\n      <td>232</td>\n      <td>4</td>\n      <td>2020-11-15</td>\n      <td>000010.SZ</td>\n      <td>美丽生态</td>\n      <td>Wind工业</td>\n      <td>1</td>\n      <td>231</td>\n    </tr>\n    <tr>\n      <th>713</th>\n      <td>2020-10-12</td>\n      <td>0.20</td>\n      <td>0.43</td>\n      <td>4.73</td>\n      <td>4.73</td>\n      <td>4.73</td>\n      <td>交易</td>\n      <td>4.73</td>\n      <td>1.0</td>\n      <td>000010.SZ</td>\n      <td>233</td>\n      <td>4</td>\n      <td>2020-11-15</td>\n      <td>000010.SZ</td>\n      <td>美丽生态</td>\n      <td>Wind工业</td>\n      <td>2</td>\n      <td>231</td>\n    </tr>\n    <tr>\n      <th>2684</th>\n      <td>2020-09-24</td>\n      <td>4.49</td>\n      <td>1.77</td>\n      <td>19.47</td>\n      <td>17.14</td>\n      <td>19.47</td>\n      <td>交易</td>\n      <td>19.47</td>\n      <td>1.0</td>\n      <td>000411.SZ</td>\n      <td>2063</td>\n      <td>7</td>\n      <td>2020-11-15</td>\n      <td>000411.SZ</td>\n      <td>英特集团</td>\n      <td>Wind医疗保健</td>\n      <td>1</td>\n      <td>2062</td>\n    </tr>\n    <tr>\n      <th>2684</th>\n      <td>2020-09-25</td>\n      <td>9.45</td>\n      <td>1.95</td>\n      <td>21.42</td>\n      <td>20.11</td>\n      <td>21.42</td>\n      <td>交易</td>\n      <td>21.42</td>\n      <td>1.0</td>\n      <td>000411.SZ</td>\n      <td>2064</td>\n      <td>7</td>\n      <td>2020-11-15</td>\n      <td>000411.SZ</td>\n      <td>英特集团</td>\n      <td>Wind医疗保健</td>\n      <td>2</td>\n      <td>2062</td>\n    </tr>\n    <tr>\n      <th>742</th>\n      <td>2020-09-21</td>\n      <td>1.11</td>\n      <td>0.43</td>\n      <td>4.68</td>\n      <td>4.30</td>\n      <td>4.68</td>\n      <td>交易</td>\n      <td>4.68</td>\n      <td>1.0</td>\n      <td>000548.SZ</td>\n      <td>3464</td>\n      <td>33</td>\n      <td>2020-11-15</td>\n      <td>000548.SZ</td>\n      <td>湖南投资</td>\n      <td>Wind工业</td>\n      <td>1</td>\n      <td>3463</td>\n    </tr>\n  </tbody>\n</table>\n</div>"
     },
     "execution_count": 2,
     "metadata": {},
     "output_type": "execute_result"
    }
   ],
   "source": [
    "import  os\n",
    "s = Stock(start='20200901',end='20201030')\n",
    "s.load_data()\n",
    "#s.wind_stock_df.head()\n",
    "# 所有股票 涨跌平\n",
    "# df_1 = s.get_chg_amt_count_frm_df()\n",
    "# df_1.to_csv('./data/result_data/所有股票涨跌平成交额.csv')\n",
    "\n",
    "#大盘涨地坪\n",
    "# df_2 = s.get_dapan_chg_amt_count()\n",
    "# df_2.to_csv('./data/result_data/大盘涨跌平成交额.csv')\n",
    "# df_2.head()\n",
    "\n",
    "# 各个板块\n",
    "# df_3 = s.get_windtype_chg_amt_count()\n",
    "# df_3.to_csv('./data/result_data/各板块涨跌平成交额.csv')\n",
    "# df_3.head()\n",
    "\n",
    "\n",
    "# 各涨停股\n",
    "# df_4 = s.get_maxup_stock()\n",
    "# df_4.to_csv('./data/result_data/各板块涨涨停股.csv')\n",
    "# df_4.head()\n",
    "\n",
    "# 首板\n",
    "# df_5 = s.get_first_maxup_stock()\n",
    "# df_5.to_csv('./data/result_data/各板块首次涨停股.csv')\n",
    "# df_5.head()\n",
    "\n",
    "# 连板\n",
    "# df_6=s.get_lianban_maxup_stock()\n",
    "# df_6.to_csv('./data/result_data/各板块连板涨停股.csv')\n",
    "# df_6.head()"
   ]
  },
  {
   "cell_type": "code",
   "execution_count": 14,
   "metadata": {
    "ExecuteTime": {
     "end_time": "2020-11-08T04:18:54.581699Z",
     "start_time": "2020-11-08T04:18:54.563698Z"
    },
    "pycharm": {
     "name": "#%%\n"
    }
   },
   "outputs": [
    {
     "data": {
      "text/plain": "<pyecharts.render.display.HTML at 0x167ee948>",
      "text/html": "\n<script>\n    require.config({\n        paths: {\n            'echarts':'https://assets.pyecharts.org/assets/echarts.min'\n        }\n    });\n</script>\n\n        <div id=\"555338cf94ab4c61824e652ed4662884\" style=\"width:900px; height:500px;\"></div>\n\n<script>\n        require(['echarts'], function(echarts) {\n                var chart_555338cf94ab4c61824e652ed4662884 = echarts.init(\n                    document.getElementById('555338cf94ab4c61824e652ed4662884'), 'light', {renderer: 'canvas'});\n                var option_555338cf94ab4c61824e652ed4662884 = {\n    \"animation\": true,\n    \"animationThreshold\": 2000,\n    \"animationDuration\": 1000,\n    \"animationEasing\": \"cubicOut\",\n    \"animationDelay\": 0,\n    \"animationDurationUpdate\": 300,\n    \"animationEasingUpdate\": \"cubicOut\",\n    \"animationDelayUpdate\": 0,\n    \"series\": [\n        {\n            \"type\": \"bar\",\n            \"name\": \"\\u5546\\u5bb6A\",\n            \"legendHoverLink\": true,\n            \"data\": [\n                10,\n                20\n            ],\n            \"showBackground\": false,\n            \"barMinHeight\": 0,\n            \"barCategoryGap\": \"20%\",\n            \"barGap\": \"30%\",\n            \"large\": false,\n            \"largeThreshold\": 400,\n            \"seriesLayoutBy\": \"column\",\n            \"datasetIndex\": 0,\n            \"clip\": true,\n            \"zlevel\": 0,\n            \"z\": 2,\n            \"label\": {\n                \"show\": true,\n                \"position\": \"top\",\n                \"margin\": 8\n            }\n        },\n        {\n            \"type\": \"bar\",\n            \"name\": \"\\u5546\\u5bb6B\",\n            \"legendHoverLink\": true,\n            \"data\": [\n                40,\n                30\n            ],\n            \"showBackground\": false,\n            \"barMinHeight\": 0,\n            \"barCategoryGap\": \"20%\",\n            \"barGap\": \"30%\",\n            \"large\": false,\n            \"largeThreshold\": 400,\n            \"seriesLayoutBy\": \"column\",\n            \"datasetIndex\": 0,\n            \"clip\": true,\n            \"zlevel\": 0,\n            \"z\": 2,\n            \"label\": {\n                \"show\": true,\n                \"position\": \"top\",\n                \"margin\": 8\n            }\n        },\n        {\n            \"type\": \"bar\",\n            \"name\": \"\\u5546\\u5bb6C\",\n            \"legendHoverLink\": true,\n            \"data\": [\n                20,\n                40\n            ],\n            \"showBackground\": false,\n            \"barMinHeight\": 0,\n            \"barCategoryGap\": \"20%\",\n            \"barGap\": \"30%\",\n            \"large\": false,\n            \"largeThreshold\": 400,\n            \"seriesLayoutBy\": \"column\",\n            \"datasetIndex\": 0,\n            \"clip\": true,\n            \"zlevel\": 0,\n            \"z\": 2,\n            \"label\": {\n                \"show\": true,\n                \"position\": \"top\",\n                \"margin\": 8\n            }\n        },\n        {\n            \"type\": \"bar\",\n            \"name\": \"\\u5546\\u5bb6D\",\n            \"legendHoverLink\": true,\n            \"data\": [\n                10,\n                30\n            ],\n            \"showBackground\": false,\n            \"barMinHeight\": 0,\n            \"barCategoryGap\": \"20%\",\n            \"barGap\": \"30%\",\n            \"large\": false,\n            \"largeThreshold\": 400,\n            \"seriesLayoutBy\": \"column\",\n            \"datasetIndex\": 0,\n            \"clip\": true,\n            \"zlevel\": 0,\n            \"z\": 2,\n            \"label\": {\n                \"show\": true,\n                \"position\": \"top\",\n                \"margin\": 8\n            }\n        }\n    ],\n    \"legend\": [\n        {\n            \"data\": [\n                \"\\u5546\\u5bb6A\",\n                \"\\u5546\\u5bb6B\",\n                \"\\u5546\\u5bb6C\",\n                \"\\u5546\\u5bb6D\"\n            ],\n            \"selected\": {\n                \"\\u5546\\u5bb6A\": true,\n                \"\\u5546\\u5bb6B\": true,\n                \"\\u5546\\u5bb6C\": true,\n                \"\\u5546\\u5bb6D\": true\n            },\n            \"show\": true,\n            \"padding\": 5,\n            \"itemGap\": 10,\n            \"itemWidth\": 25,\n            \"itemHeight\": 14\n        }\n    ],\n    \"tooltip\": {\n        \"show\": true,\n        \"trigger\": \"item\",\n        \"triggerOn\": \"mousemove|click\",\n        \"axisPointer\": {\n            \"type\": \"line\"\n        },\n        \"showContent\": true,\n        \"alwaysShowContent\": false,\n        \"showDelay\": 0,\n        \"hideDelay\": 100,\n        \"textStyle\": {\n            \"fontSize\": 14\n        },\n        \"borderWidth\": 0,\n        \"padding\": 5\n    },\n    \"xAxis\": [\n        {\n            \"show\": true,\n            \"scale\": false,\n            \"nameLocation\": \"end\",\n            \"nameGap\": 15,\n            \"gridIndex\": 0,\n            \"inverse\": false,\n            \"offset\": 0,\n            \"splitNumber\": 5,\n            \"minInterval\": 0,\n            \"splitLine\": {\n                \"show\": false,\n                \"lineStyle\": {\n                    \"show\": true,\n                    \"width\": 1,\n                    \"opacity\": 1,\n                    \"curveness\": 0,\n                    \"type\": \"solid\"\n                }\n            },\n            \"data\": [\n                \"\\u76ae\\u6602\",\n                \"ss\"\n            ]\n        }\n    ],\n    \"yAxis\": [\n        {\n            \"show\": true,\n            \"scale\": false,\n            \"nameLocation\": \"end\",\n            \"nameGap\": 15,\n            \"gridIndex\": 0,\n            \"inverse\": false,\n            \"offset\": 0,\n            \"splitNumber\": 5,\n            \"minInterval\": 0,\n            \"splitLine\": {\n                \"show\": false,\n                \"lineStyle\": {\n                    \"show\": true,\n                    \"width\": 1,\n                    \"opacity\": 1,\n                    \"curveness\": 0,\n                    \"type\": \"solid\"\n                }\n            }\n        }\n    ],\n    \"title\": [\n        {\n            \"text\": \"Theme-default\",\n            \"padding\": 5,\n            \"itemGap\": 10\n        }\n    ]\n};\n                chart_555338cf94ab4c61824e652ed4662884.setOption(option_555338cf94ab4c61824e652ed4662884);\n        });\n    </script>\n"
     },
     "execution_count": 14,
     "metadata": {},
     "output_type": "execute_result"
    }
   ],
   "source": [
    "from pyecharts.charts import Bar\n",
    "from pyecharts import options as opts\n",
    "from pyecharts.globals import ThemeType\n",
    "\n",
    "c = (\n",
    "        Bar(init_opts=opts.InitOpts(theme=ThemeType.LIGHT))\n",
    "        .add_xaxis(['皮昂','ss'])\n",
    "        .add_yaxis(\"商家A\", [10,20])\n",
    "        .add_yaxis(\"商家B\", [40,30])\n",
    "        .add_yaxis(\"商家C\", [20,40])\n",
    "        .add_yaxis(\"商家D\", [10,30])\n",
    "        .set_global_opts(title_opts=opts.TitleOpts(\"Theme-default\"))\n",
    "    )\n",
    "\n",
    "c.render_notebook()"
   ]
  },
  {
   "cell_type": "code",
   "execution_count": 2,
   "outputs": [
    {
     "data": {
      "text/plain": "        date  wind_code sec_name wind_type1\n1 2020-11-08  000059.SZ     华锦股份     Wind能源\n2 2020-11-08  000096.SZ     广聚能源     Wind能源\n3 2020-11-08  000159.SZ     国际实业     Wind能源\n4 2020-11-08  000552.SZ     靖远煤电     Wind能源\n5 2020-11-08  000554.SZ     泰山石油     Wind能源",
      "text/html": "<div>\n<style scoped>\n    .dataframe tbody tr th:only-of-type {\n        vertical-align: middle;\n    }\n\n    .dataframe tbody tr th {\n        vertical-align: top;\n    }\n\n    .dataframe thead th {\n        text-align: right;\n    }\n</style>\n<table border=\"1\" class=\"dataframe\">\n  <thead>\n    <tr style=\"text-align: right;\">\n      <th></th>\n      <th>date</th>\n      <th>wind_code</th>\n      <th>sec_name</th>\n      <th>wind_type1</th>\n    </tr>\n  </thead>\n  <tbody>\n    <tr>\n      <th>1</th>\n      <td>2020-11-08</td>\n      <td>000059.SZ</td>\n      <td>华锦股份</td>\n      <td>Wind能源</td>\n    </tr>\n    <tr>\n      <th>2</th>\n      <td>2020-11-08</td>\n      <td>000096.SZ</td>\n      <td>广聚能源</td>\n      <td>Wind能源</td>\n    </tr>\n    <tr>\n      <th>3</th>\n      <td>2020-11-08</td>\n      <td>000159.SZ</td>\n      <td>国际实业</td>\n      <td>Wind能源</td>\n    </tr>\n    <tr>\n      <th>4</th>\n      <td>2020-11-08</td>\n      <td>000552.SZ</td>\n      <td>靖远煤电</td>\n      <td>Wind能源</td>\n    </tr>\n    <tr>\n      <th>5</th>\n      <td>2020-11-08</td>\n      <td>000554.SZ</td>\n      <td>泰山石油</td>\n      <td>Wind能源</td>\n    </tr>\n  </tbody>\n</table>\n</div>"
     },
     "execution_count": 2,
     "metadata": {},
     "output_type": "execute_result"
    }
   ],
   "source": [
    "s = Stock()\n",
    "# df = s.get_a_chuang_windcodes()\n",
    "# df = s.get_dapan_windcodes()\n",
    "df = s.get_windtype_windcodes()\n",
    "df.head()"
   ],
   "metadata": {
    "collapsed": false,
    "pycharm": {
     "name": "#%%\n"
    }
   }
  },
  {
   "cell_type": "code",
   "execution_count": 30,
   "outputs": [
    {
     "name": "stdout",
     "output_type": "stream",
     "text": [
      "['000001.SZ', '20201101', '20201115']\n",
      "000001.SZ\n",
      "['000001.SZ', '20201101', '20201115']\n",
      "['000002.SZ', '20201101', '20201115']\n",
      "000002.SZ\n",
      "['000002.SZ', '20201101', '20201115']\n"
     ]
    },
    {
     "data": {
      "text/plain": "'20201115'"
     },
     "execution_count": 30,
     "metadata": {},
     "output_type": "execute_result"
    }
   ],
   "source": [
    "import pandas as pd\n",
    "from datetime import datetime,timedelta\n",
    "import pathlib\n",
    "import  os\n",
    "import glob\n",
    "from collections import  defaultdict\n",
    "# df = pd.read_csv('./data/wind_stock.csv')\n",
    "# df.head()\n",
    "# df.loc[(df['DATE_TIME']>'2020-10-09') & (df['DATE_TIME']<'2020-10-13')]\n",
    "# today = datetime.now().strftime('%Y-%m-%d')\n",
    "# end  = (datetime.strptime(today,'%Y-%m-%d') - timedelta(30)).strftime('%Y-%m-%d')\n",
    "# today, end\n",
    "pathlib.os.chdir('.')\n",
    "paths  = glob.glob('./data/*.csv')\n",
    "windcode_dates = defaultdict(set)\n",
    "s1=set()\n",
    "def record_windcode_start_end_date(wcode_dict,code_dates):\n",
    "    print(code_dates)\n",
    "    print(code_dates[0])\n",
    "    windcode = code_dates[0]\n",
    "    wcode_dict[windcode].add(code_dates[1])\n",
    "    wcode_dict[windcode].add(code_dates[2])\n",
    "    return code_dates\n",
    "\n",
    "filenames =map(lambda ss: record_windcode_start_end_date(windcode_dates,ss.split('_')),['000001.SZ_20201101_20201115','000002.SZ_20201101_20201115'])\n",
    "\n",
    "for f in filenames:\n",
    "    print(f)\n",
    "windcode_dates\n",
    "\n",
    "max(windcode_dates['000001.SZ'])"
   ],
   "metadata": {
    "collapsed": false,
    "pycharm": {
     "name": "#%%\n"
    }
   }
  },
  {
   "cell_type": "code",
   "execution_count": 14,
   "outputs": [
    {
     "ename": "TypeError",
     "evalue": "append() takes exactly one argument (2 given)",
     "output_type": "error",
     "traceback": [
      "\u001B[1;31m---------------------------------------------------------------------------\u001B[0m",
      "\u001B[1;31mTypeError\u001B[0m                                 Traceback (most recent call last)",
      "\u001B[1;32m<ipython-input-14-2bee9c0491b3>\u001B[0m in \u001B[0;36m<module>\u001B[1;34m\u001B[0m\n\u001B[0;32m      1\u001B[0m \u001B[0ma\u001B[0m \u001B[1;33m=\u001B[0m \u001B[1;33m[\u001B[0m\u001B[1;33m]\u001B[0m\u001B[1;33m\u001B[0m\u001B[1;33m\u001B[0m\u001B[0m\n\u001B[0;32m      2\u001B[0m \u001B[1;33m\u001B[0m\u001B[0m\n\u001B[1;32m----> 3\u001B[1;33m \u001B[0ma\u001B[0m\u001B[1;33m.\u001B[0m\u001B[0mappend\u001B[0m\u001B[1;33m(\u001B[0m\u001B[1;34m'a'\u001B[0m\u001B[1;33m,\u001B[0m\u001B[1;34m'b'\u001B[0m\u001B[1;33m)\u001B[0m\u001B[1;33m\u001B[0m\u001B[1;33m\u001B[0m\u001B[0m\n\u001B[0m",
      "\u001B[1;31mTypeError\u001B[0m: append() takes exactly one argument (2 given)"
     ]
    }
   ],
   "source": [
    "a = []\n",
    "\n",
    "a.append('a','b')"
   ],
   "metadata": {
    "collapsed": false,
    "pycharm": {
     "name": "#%%\n"
    }
   }
  }
 ],
 "metadata": {
  "kernelspec": {
   "display_name": "PyCharm (stock_analyz)",
   "language": "python",
   "name": "pycharm-b060f480"
  },
  "language_info": {
   "codemirror_mode": {
    "name": "ipython",
    "version": 3
   },
   "file_extension": ".py",
   "mimetype": "text/x-python",
   "name": "python",
   "nbconvert_exporter": "python",
   "pygments_lexer": "ipython3",
   "version": "3.7.4-final"
  },
  "toc": {
   "base_numbering": 1,
   "nav_menu": {},
   "number_sections": true,
   "sideBar": true,
   "skip_h1_title": false,
   "title_cell": "Table of Contents",
   "title_sidebar": "Contents",
   "toc_cell": false,
   "toc_position": {
    "height": "calc(100% - 180px)",
    "left": "10px",
    "top": "150px",
    "width": "210.792px"
   },
   "toc_section_display": true,
   "toc_window_display": true
  },
  "varInspector": {
   "cols": {
    "lenName": 16,
    "lenType": 16,
    "lenVar": 40
   },
   "kernels_config": {
    "python": {
     "delete_cmd_postfix": "",
     "delete_cmd_prefix": "del ",
     "library": "var_list.py",
     "varRefreshCmd": "print(var_dic_list())"
    },
    "r": {
     "delete_cmd_postfix": ") ",
     "delete_cmd_prefix": "rm(",
     "library": "var_list.r",
     "varRefreshCmd": "cat(var_dic_list()) "
    }
   },
   "position": {
    "height": "373.667px",
    "left": "1366.33px",
    "right": "20px",
    "top": "120px",
    "width": "321px"
   },
   "types_to_exclude": [
    "module",
    "function",
    "builtin_function_or_method",
    "instance",
    "_Feature"
   ],
   "window_display": false
  }
 },
 "nbformat": 4,
 "nbformat_minor": 1
}